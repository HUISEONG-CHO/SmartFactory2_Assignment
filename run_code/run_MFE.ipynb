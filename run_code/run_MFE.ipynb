{
 "cells": [
  {
   "cell_type": "markdown",
   "metadata": {},
   "source": [
    "# Wafer map pattern classification using MFE"
   ]
  },
  {
   "cell_type": "code",
   "execution_count": 7,
   "metadata": {
    "ExecuteTime": {
     "end_time": "2021-03-22T06:26:40.942393Z",
     "start_time": "2021-03-22T06:26:40.933387Z"
    }
   },
   "outputs": [],
   "source": [
    "import pickle\n",
    "import os\n",
    "\n",
    "import numpy as np\n",
    "import tensorflow as tf\n",
    "from sklearn.metrics import confusion_matrix, f1_score\n",
    "from sklearn.preprocessing import StandardScaler\n",
    "from sklearn.model_selection import train_test_split"
   ]
  },
  {
   "cell_type": "code",
   "execution_count": 8,
   "metadata": {
    "ExecuteTime": {
     "end_time": "2021-03-22T06:26:41.144922Z",
     "start_time": "2021-03-22T06:26:41.139935Z"
    }
   },
   "outputs": [],
   "source": [
    "BATCH_SIZE = 32\n",
    "MAX_EPOCH = 1000\n",
    "TRAIN_SIZE_LIST = [500, 5000, 50000, 162946]\n",
    "LEARNING_RATE = 1e-4"
   ]
  },
  {
   "cell_type": "code",
   "execution_count": 9,
   "metadata": {
    "ExecuteTime": {
     "end_time": "2021-03-22T06:26:41.344394Z",
     "start_time": "2021-03-22T06:26:41.330406Z"
    }
   },
   "outputs": [],
   "source": [
    "early_stopping = tf.keras.callbacks.EarlyStopping(patience=20, restore_best_weights=True)"
   ]
  },
  {
   "cell_type": "code",
   "execution_count": 10,
   "metadata": {
    "ExecuteTime": {
     "end_time": "2021-03-22T06:26:41.576681Z",
     "start_time": "2021-03-22T06:26:41.507591Z"
    }
   },
   "outputs": [],
   "source": [
    "with open('../data/X_MFE.pickle', 'rb') as f:\n",
    "    X_mfe = pickle.load(f)\n",
    "with open('../data/y.pickle', 'rb') as f:\n",
    "    y = pickle.load(f)"
   ]
  },
  {
   "cell_type": "code",
   "execution_count": 11,
   "metadata": {
    "ExecuteTime": {
     "end_time": "2021-03-22T06:26:41.856587Z",
     "start_time": "2021-03-22T06:26:41.845644Z"
    }
   },
   "outputs": [],
   "source": [
    "def FNN(lr=1e-4):\n",
    "    model = tf.keras.models.Sequential([\n",
    "        tf.keras.layers.Dense(128, activation='tanh'),\n",
    "        tf.keras.layers.Dense(128, activation='tanh'),\n",
    "        tf.keras.layers.Dense(9, activation='softmax')\n",
    "    ])\n",
    "    model.compile(optimizer= tf.keras.optimizers.Adam(lr=lr),\n",
    "                  loss='categorical_crossentropy',\n",
    "                  metrics=['accuracy'])\n",
    "    return model"
   ]
  },
  {
   "cell_type": "code",
   "execution_count": 12,
   "metadata": {
    "ExecuteTime": {
     "end_time": "2021-03-22T06:28:47.011904Z",
     "start_time": "2021-03-22T06:28:38.773026Z"
    }
   },
   "outputs": [
    {
     "name": "stdout",
     "output_type": "stream",
     "text": [
      "train size: 500 rep_id: 0 macro: 0.5507 micro: 0.939\n",
      "train size: 5000 rep_id: 0 macro: 0.6082 micro: 0.958\n",
      "train size: 50000 rep_id: 0 macro: 0.8408 micro: 0.9701\n",
      "train size: 162946 rep_id: 0 macro: 0.8671 micro: 0.9748\n"
     ]
    }
   ],
   "source": [
    "REP_ID = 0\n",
    "RAN_NUM = 27407+REP_ID\n",
    "\n",
    "for TRAIN_SIZE_ID in range(4):\n",
    "    TRAIN_SIZE = TRAIN_SIZE_LIST[TRAIN_SIZE_ID]\n",
    "\n",
    "    X_trnval, X_tst, y_trnval, y_tst =  train_test_split(X_mfe, y, \n",
    "                                                         test_size=10000, random_state=RAN_NUM)\n",
    "\n",
    "    # Randomly sample train set for evaluation at various training set size\n",
    "    if TRAIN_SIZE == X_trnval.shape[0]:\n",
    "        pass\n",
    "    else:\n",
    "        X_trnval,_ , y_trnval, _ = train_test_split(X_trnval, y_trnval, \n",
    "                                                    train_size=TRAIN_SIZE, random_state=RAN_NUM)\n",
    "    # Get unique labels in training set. Some labels might not appear in small training set.\n",
    "    labels = np.unique(y_trnval)\n",
    "\n",
    "    scaler = StandardScaler()\n",
    "    X_trnval_scaled = scaler.fit_transform(X_trnval)\n",
    "    X_tst_scaled = scaler.transform(X_tst)\n",
    "\n",
    "\n",
    "    model = FNN(lr=LEARNING_RATE)\n",
    "\n",
    "    y_trnval = tf.keras.utils.to_categorical(y_trnval)\n",
    "    y_tst = tf.keras.utils.to_categorical(y_tst)\n",
    "    log = model.fit(X_trnval_scaled, y_trnval, validation_split=0.2, batch_size=BATCH_SIZE,\n",
    "              epochs=MAX_EPOCH, callbacks=[early_stopping], verbose=0)\n",
    "    y_trnval_hat= model.predict(X_trnval_scaled)\n",
    "    y_tst_hat= model.predict(X_tst_scaled)\n",
    "\n",
    "    macro = f1_score(np.argmax(y_tst, 1), np.argmax(y_tst_hat, 1), labels=labels, average='macro')\n",
    "    micro = f1_score(np.argmax(y_tst, 1), np.argmax(y_tst_hat, 1), labels=labels, average='micro')\n",
    "    cm = confusion_matrix(np.argmax(y_tst, 1), np.argmax(y_tst_hat, 1))\n",
    "\n",
    "    filename = '../result/WMPC_'+'MFE_'+str(TRAIN_SIZE)+'_'+str(REP_ID)+'_'\n",
    "\n",
    "    with open(filename+'softmax.pickle', 'wb') as f:\n",
    "        pickle.dump([y_trnval_hat, y_tst_hat], f)\n",
    "    with open(filename+'f1_score.pickle', 'wb') as f:\n",
    "        pickle.dump([macro, micro, cm], f)\n",
    "\n",
    "    print('train size:', TRAIN_SIZE,\n",
    "          'rep_id:', REP_ID,\n",
    "          'macro:', np.round(macro, 4), \n",
    "          'micro:', np.round(micro, 4))"
   ]
  },
  {
   "cell_type": "code",
   "execution_count": null,
   "metadata": {},
   "outputs": [],
   "source": []
  }
 ],
 "metadata": {
  "kernelspec": {
   "display_name": "Python 3 (ipykernel)",
   "language": "python",
   "name": "python3"
  },
  "language_info": {
   "codemirror_mode": {
    "name": "ipython",
    "version": 3
   },
   "file_extension": ".py",
   "mimetype": "text/x-python",
   "name": "python",
   "nbconvert_exporter": "python",
   "pygments_lexer": "ipython3",
   "version": "3.8.11"
  },
  "toc": {
   "base_numbering": 1,
   "nav_menu": {},
   "number_sections": true,
   "sideBar": true,
   "skip_h1_title": false,
   "title_cell": "Table of Contents",
   "title_sidebar": "Contents",
   "toc_cell": false,
   "toc_position": {},
   "toc_section_display": true,
   "toc_window_display": false
  },
  "varInspector": {
   "cols": {
    "lenName": 16,
    "lenType": 16,
    "lenVar": 40
   },
   "kernels_config": {
    "python": {
     "delete_cmd_postfix": "",
     "delete_cmd_prefix": "del ",
     "library": "var_list.py",
     "varRefreshCmd": "print(var_dic_list())"
    },
    "r": {
     "delete_cmd_postfix": ") ",
     "delete_cmd_prefix": "rm(",
     "library": "var_list.r",
     "varRefreshCmd": "cat(var_dic_list()) "
    }
   },
   "types_to_exclude": [
    "module",
    "function",
    "builtin_function_or_method",
    "instance",
    "_Feature"
   ],
   "window_display": false
  }
 },
 "nbformat": 4,
 "nbformat_minor": 2
}
