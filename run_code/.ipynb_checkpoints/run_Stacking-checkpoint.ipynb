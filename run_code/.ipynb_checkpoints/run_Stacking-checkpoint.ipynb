{
 "cells": [
  {
   "cell_type": "code",
   "execution_count": 14,
   "metadata": {
    "ExecuteTime": {
     "end_time": "2021-03-22T03:57:37.787145Z",
     "start_time": "2021-03-22T03:57:37.781154Z"
    }
   },
   "outputs": [],
   "source": [
    "import pickle\n",
    "import os\n",
    "import sys\n",
    "\n",
    "import numpy as np\n",
    "from tensorflow.keras.layers import Input, Dense, MaxPooling2D, Concatenate\n",
    "from tensorflow.keras.applications.vgg16 import VGG16\n",
    "import tensorflow as tf\n",
    "from sklearn.model_selection import train_test_split\n",
    "from sklearn.metrics import f1_score, confusion_matrix\n",
    "from sklearn.preprocessing import StandardScaler"
   ]
  },
  {
   "cell_type": "code",
   "execution_count": 15,
   "metadata": {
    "ExecuteTime": {
     "end_time": "2021-03-22T03:57:38.020612Z",
     "start_time": "2021-03-22T03:57:38.010610Z"
    }
   },
   "outputs": [],
   "source": [
    "DIM = 64\n",
    "REPLICATION = 10\n",
    "BATCH_SIZE = 32\n",
    "MAX_EPOCH = 1000\n",
    "TRAIN_SIZE_LIST = [500, 5000,50000,162946]"
   ]
  },
  {
   "cell_type": "code",
   "execution_count": 16,
   "metadata": {
    "ExecuteTime": {
     "end_time": "2021-03-22T03:57:38.020612Z",
     "start_time": "2021-03-22T03:57:38.010610Z"
    }
   },
   "outputs": [],
   "source": [
    "early_stopping = tf.keras.callbacks.EarlyStopping(patience=20, restore_best_weights=True, verbose=0)"
   ]
  },
  {
   "cell_type": "code",
   "execution_count": 17,
   "metadata": {
    "ExecuteTime": {
     "end_time": "2021-03-22T03:59:40.528753Z",
     "start_time": "2021-03-22T03:59:39.637132Z"
    }
   },
   "outputs": [],
   "source": [
    "with open('../data/y.pickle', 'rb') as f:\n",
    "    y = pickle.load(f)\n",
    "y_onehot = tf.keras.utils.to_categorical(y)"
   ]
  },
  {
   "cell_type": "code",
   "execution_count": 18,
   "metadata": {},
   "outputs": [],
   "source": [
    "def FNN(lr=1e-4):\n",
    "    model = tf.keras.models.Sequential([\n",
    "        tf.keras.layers.Dense(10, activation='relu'),\n",
    "        tf.keras.layers.Dense(9, activation='softmax')])\n",
    "    model.compile(optimizer= tf.keras.optimizers.Adam(lr=lr),\n",
    "                  loss='categorical_crossentropy',\n",
    "                  metrics=['accuracy'])\n",
    "    return model"
   ]
  },
  {
   "cell_type": "code",
   "execution_count": 20,
   "metadata": {},
   "outputs": [
    {
     "name": "stdout",
     "output_type": "stream",
     "text": [
      "Replication: 0\n"
     ]
    }
   ],
   "source": [
    "REP_ID = 0\n",
    "RAN_NUM = 27407 + REP_ID\n",
    "print('Replication:', REP_ID)\n",
    "for TRAIN_SIZE_ID in range(4):\n",
    "    TRAIN_SIZE = TRAIN_SIZE_LIST[TRAIN_SIZE_ID]\n",
    "\n",
    "    y_trnval, y_tst =  train_test_split(y_onehot, test_size=10000, random_state=RAN_NUM)\n",
    "    if TRAIN_SIZE == 162946:\n",
    "            pass\n",
    "    else:    \n",
    "        y_trnval, _ = train_test_split(y_trnval, train_size=TRAIN_SIZE, random_state=RAN_NUM)\n",
    "\n",
    "    filename_MFE = '../result/WMPC_'+'MFE_'+str(TRAIN_SIZE)+'_'+str(REP_ID)+'_'\n",
    "    filename_CNN = '../result/WMPC_'+'CNN_'+str(TRAIN_SIZE)+'_'+str(REP_ID)+'_'\n",
    "\n",
    "    with open(filename_MFE + 'softmax.pickle', 'rb') as f:\n",
    "        y_trnval_hat_mfe, y_tst_hat_mfe = pickle.load(f)\n",
    "    with open(filename_CNN + 'softmax.pickle', 'rb') as f:\n",
    "        y_trnval_hat_cnn, y_tst_hat_cnn = pickle.load(f)\n",
    "    X_trnval_concat = np.concatenate([y_trnval_hat_mfe, y_trnval_hat_cnn], axis=1)\n",
    "    X_tst_concat = np.concatenate([y_tst_hat_mfe, y_tst_hat_cnn], axis=1)\n",
    "\n",
    "    labels = np.unique(np.argmax(y_trnval, 1))\n",
    "\n",
    "    \n",
    "    model = FNN()\n",
    "    log = model.fit(X_trnval_concat, y_trnval, validation_split=0.2, \n",
    "                    epochs=MAX_EPOCH, batch_size=BATCH_SIZE,\n",
    "                    callbacks=[early_stopping], verbose=0)\n",
    "\n",
    "    y_trnval_hat = model.predict(X_trnval_concat)  \n",
    "    y_tst_hat = model.predict(X_tst_concat)\n",
    "    macro = f1_score(np.argmax(y_tst, 1), np.argmax(y_tst_hat, 1), labels=labels, average='macro')\n",
    "    micro = f1_score(np.argmax(y_tst, 1), np.argmax(y_tst_hat, 1), labels=labels, average='micro')\n",
    "    cm = confusion_matrix(np.argmax(y_tst, 1), np.argmax(y_tst_hat, 1))\n",
    "\n",
    "    filename = '../result/WMPC_'+'Stacking_'+str(TRAIN_SIZE)+'_'+str(REP_ID)+'_'\n",
    "    with open(filename+'f1_score.pickle', 'wb') as f:\n",
    "        pickle.dump([macro, micro, cm], f)\n",
    "    with open(filename+'softmax.pickle', 'wb') as f:\n",
    "        pickle.dump([y_trnval_hat,y_trnval], f)"
   ]
  },
  {
   "cell_type": "code",
   "execution_count": null,
   "metadata": {},
   "outputs": [],
   "source": []
  }
 ],
 "metadata": {
  "kernelspec": {
   "display_name": "Python 3 (ipykernel)",
   "language": "python",
   "name": "python3"
  },
  "language_info": {
   "codemirror_mode": {
    "name": "ipython",
    "version": 3
   },
   "file_extension": ".py",
   "mimetype": "text/x-python",
   "name": "python",
   "nbconvert_exporter": "python",
   "pygments_lexer": "ipython3",
   "version": "3.8.11"
  },
  "toc": {
   "base_numbering": 1,
   "nav_menu": {},
   "number_sections": true,
   "sideBar": true,
   "skip_h1_title": false,
   "title_cell": "Table of Contents",
   "title_sidebar": "Contents",
   "toc_cell": false,
   "toc_position": {},
   "toc_section_display": true,
   "toc_window_display": false
  },
  "varInspector": {
   "cols": {
    "lenName": 16,
    "lenType": 16,
    "lenVar": 40
   },
   "kernels_config": {
    "python": {
     "delete_cmd_postfix": "",
     "delete_cmd_prefix": "del ",
     "library": "var_list.py",
     "varRefreshCmd": "print(var_dic_list())"
    },
    "r": {
     "delete_cmd_postfix": ") ",
     "delete_cmd_prefix": "rm(",
     "library": "var_list.r",
     "varRefreshCmd": "cat(var_dic_list()) "
    }
   },
   "types_to_exclude": [
    "module",
    "function",
    "builtin_function_or_method",
    "instance",
    "_Feature"
   ],
   "window_display": false
  }
 },
 "nbformat": 4,
 "nbformat_minor": 2
}
